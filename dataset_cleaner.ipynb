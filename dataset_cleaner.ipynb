{
 "cells": [
  {
   "cell_type": "markdown",
   "source": [
    "Date to Weekday"
   ],
   "metadata": {
    "collapsed": false,
    "pycharm": {
     "name": "#%% md\n"
    }
   }
  },
  {
   "cell_type": "code",
   "execution_count": null,
   "outputs": [],
   "source": [
    "import pandas as pd\n",
    "import seaborn as sns\n",
    "import matplotlib.pyplot as plt\n",
    "from scipy import stats\n",
    "from eda_rinus import get_day, timechange, features, features_aggr, counting_mood_days\n",
    "from sklearn import preprocessing\n",
    "import numpy as np\n",
    "\n",
    "\n",
    "sdf = pd.read_csv('data/dataset_mood_smartphone.csv', index_col=0)\n",
    "\n",
    "sdf = timechange(sdf)\n",
    "sdf = get_day(sdf)\n",
    "pd.set_option('display.max_rows', 6000)\n",
    "\n",
    "aggregation = {'value':  'mean'}\n",
    "cols_d = {'value': 'Mean Value'}\n",
    "\n",
    "\n",
    "sdf = sdf.groupby(['id','day']).agg(aggregation).rename(columns=cols_d).reset_index()\n",
    "\n",
    "sdf['Mean Value'] = sdf['Mean Value'].round()\n",
    "print (sdf)\n",
    "\n",
    "sdf.head(6000)"
   ],
   "metadata": {
    "collapsed": false,
    "pycharm": {
     "name": "#%%\n"
    }
   }
  },
  {
   "cell_type": "code",
   "execution_count": null,
   "outputs": [],
   "source": [
    "sdf = timechange(sdf)\n",
    "sdf = get_day(sdf)\n",
    "pd.set_option('display.max_rows', 6000)\n",
    "\n",
    "aggregation = {'value':  'mean'}\n",
    "cols_d = {'value': 'Mean Value'}\n",
    "\n",
    "\n",
    "sdf = sdf.groupby(['id','day']).agg(aggregation).rename(columns=cols_d).reset_index()\n",
    "\n",
    "sdf['Mean Value'] = sdf['Mean Value'].round()\n",
    "print (sdf)\n",
    "\n",
    "sdf.head(6000)"
   ],
   "metadata": {
    "collapsed": false,
    "pycharm": {
     "name": "#%%\n"
    }
   }
  },
  {
   "cell_type": "code",
   "execution_count": null,
   "outputs": [],
   "source": [
    "import pandas as pd"
   ],
   "metadata": {
    "collapsed": false,
    "pycharm": {
     "name": "#%%\n"
    }
   }
  },
  {
   "cell_type": "code",
   "execution_count": null,
   "outputs": [],
   "source": [
    "#df = pd.read_csv('data/dataset_mood_smartphone.csv', index_col=0)\n",
    "df = pd.read_csv('data/dataset_mood_smartphone.csv')\n",
    "df = df.drop(df.columns[[0]], axis=1)\n",
    "# display(df)"
   ],
   "metadata": {
    "collapsed": false,
    "pycharm": {
     "name": "#%%\n"
    }
   }
  },
  {
   "cell_type": "code",
   "execution_count": null,
   "outputs": [],
   "source": [
    "df = pd.read_csv('data/dataset_mood_smartphone.csv', index_col=0)\n",
    "df = df.dropna()\n",
    "df = df.drop_duplicates()\n",
    "# df.duplicated().any()\n",
    "# df = df.dropna(0,'any',None,None,False)\n",
    "# display(df)"
   ],
   "metadata": {
    "collapsed": false,
    "pycharm": {
     "name": "#%%\n"
    }
   }
  },
  {
   "cell_type": "code",
   "execution_count": null,
   "outputs": [],
   "source": [
    "# Time column to DateTime\n",
    "df['time'] = pd.to_datetime(df['time'])"
   ],
   "metadata": {
    "collapsed": false,
    "pycharm": {
     "name": "#%%\n"
    }
   }
  },
  {
   "cell_type": "code",
   "execution_count": null,
   "outputs": [],
   "source": [
    "display(df)"
   ],
   "metadata": {
    "collapsed": false,
    "pycharm": {
     "name": "#%%\n"
    }
   }
  },
  {
   "cell_type": "code",
   "execution_count": null,
   "outputs": [],
   "source": [
    "df = df.drop(df[(df['variable'] == 'mood') & (df['value'] < 0)].index)\n",
    "display(df)"
   ],
   "metadata": {
    "collapsed": false,
    "pycharm": {
     "name": "#%%\n"
    }
   }
  },
  {
   "cell_type": "code",
   "execution_count": null,
   "outputs": [],
   "source": [
    "df_mood = df.loc[(df['variable'] == 'mood')]\n",
    "index_upper = df_mood[df_mood['value'] > 10.0].index\n",
    "index_lower = df_mood[df_mood['value'] < 1.0].index\n",
    "print(index_upper)\n",
    "print(index_lower)\n",
    "df_mood.drop(index_upper, inplace=True)\n",
    "#df_mood = df_mood.drop(index_neg)\n",
    "# display(df_mood)"
   ],
   "metadata": {
    "collapsed": false,
    "pycharm": {
     "name": "#%%\n"
    }
   }
  },
  {
   "cell_type": "code",
   "execution_count": null,
   "outputs": [],
   "source": [
    "df_circumplex_arousal = df.loc[(df['variable'] == 'circumplex.arousal')]\n",
    "print(df_circumplex_arousal)\n",
    "#index_test = df_circumplex_arousal[df_circumplex_arousal['value'] < -2].index\n",
    "index_test = df_circumplex_arousal.drop(df_circumplex_arousal[(df_circumplex_arousal['value'] < -2) | (df_circumplex_arousal['value'] > 2)].index)\n",
    "# sdf_mood.drop(index_neg, inplace=True)\n",
    "# display(sdf_mood)\n",
    "# display(index_test)\n",
    "print(index_test)"
   ],
   "metadata": {
    "collapsed": false,
    "pycharm": {
     "name": "#%%\n"
    }
   }
  },
  {
   "cell_type": "code",
   "execution_count": null,
   "outputs": [],
   "source": [
    "variables = list(df.variable.unique())\n",
    "# print(variables)\n",
    "ids = df.id.unique()\n",
    "# print(ids)"
   ],
   "metadata": {
    "collapsed": false,
    "pycharm": {
     "name": "#%%\n"
    }
   }
  },
  {
   "cell_type": "code",
   "execution_count": null,
   "outputs": [],
   "source": [
    "time_start = df.time.min().normalize()\n",
    "time_end = df.time.max().normalize()"
   ],
   "metadata": {
    "collapsed": false,
    "pycharm": {
     "name": "#%%\n"
    }
   }
  },
  {
   "cell_type": "code",
   "execution_count": null,
   "outputs": [],
   "source": [
    "time_range = pd.date_range(time_start, time_end)"
   ],
   "metadata": {
    "collapsed": false,
    "pycharm": {
     "name": "#%%\n"
    }
   }
  },
  {
   "cell_type": "code",
   "execution_count": null,
   "outputs": [],
   "source": [
    "multi_index = pd.MultiIndex.from_product([ids,time_range], names = [\"IDs\", \"Day\"])\n",
    "conversion = pd.DataFrame(0,index = multi_index ,columns= variables)"
   ],
   "metadata": {
    "collapsed": false,
    "pycharm": {
     "name": "#%%\n"
    }
   }
  },
  {
   "cell_type": "code",
   "execution_count": null,
   "outputs": [],
   "source": [
    "iterator = {}"
   ],
   "metadata": {
    "collapsed": false,
    "pycharm": {
     "name": "#%%\n"
    }
   }
  },
  {
   "cell_type": "code",
   "execution_count": null,
   "metadata": {
    "pycharm": {
     "name": "#%%\n"
    }
   },
   "outputs": [],
   "source": [
    "#df = pd.read_csv('data/dataset_mood_smartphone.csv', index_col=0)\n",
    "df = pd.read_csv('data/dataset_mood_smartphone.csv')\n",
    "df = df.drop(df.columns[[0]], axis=1)\n",
    "# display(df)"
   ]
  },
  {
   "cell_type": "code",
   "execution_count": null,
   "metadata": {
    "pycharm": {
     "name": "#%%\n"
    }
   },
   "outputs": [],
   "source": [
    "df = pd.read_csv('data/dataset_mood_smartphone.csv', index_col=0)\n",
    "df = df.dropna()\n",
    "df = df.drop_duplicates()\n",
    "# df.duplicated().any()\n",
    "# df = df.dropna(0,'any',None,None,False)\n",
    "display(df)"
   ]
  },
  {
   "cell_type": "code",
   "execution_count": null,
   "metadata": {
    "pycharm": {
     "name": "#%%\n"
    }
   },
   "outputs": [],
   "source": [
    "# Transform the time column to useful datatime format.\n",
    "df['time'] = pd.to_datetime(df['time'])"
   ]
  },
  {
   "cell_type": "code",
   "execution_count": null,
   "metadata": {
    "pycharm": {
     "name": "#%%\n"
    }
   },
   "outputs": [],
   "source": [
    "display(df)"
   ]
  },
  {
   "cell_type": "code",
   "execution_count": null,
   "metadata": {
    "pycharm": {
     "name": "#%%\n"
    }
   },
   "outputs": [],
   "source": [
    "df = df.drop(df[(df['variable'] == 'mood') & (df['value'] < 0)].index)\n",
    "display(df)"
   ]
  },
  {
   "cell_type": "code",
   "execution_count": null,
   "metadata": {
    "pycharm": {
     "name": "#%%\n"
    }
   },
   "outputs": [],
   "source": [
    "df_mood = df.loc[(df['variable'] == 'mood')]\n",
    "index_upper = df_mood[df_mood['value'] > 10.0].index\n",
    "index_lower = df_mood[df_mood['value'] < 1.0].index\n",
    "print(index_upper)\n",
    "print(index_lower)\n",
    "df_mood.drop(index_upper, inplace=True)\n",
    "#df_mood = df_mood.drop(index_neg)\n",
    "display(df_mood)"
   ]
  },
  {
   "cell_type": "code",
   "execution_count": null,
   "metadata": {
    "pycharm": {
     "name": "#%%\n"
    }
   },
   "outputs": [],
   "source": [
    "df_circumplex_arousal = df.loc[(df['variable'] == 'circumplex.arousal')]\n",
    "print(df_circumplex_arousal)\n",
    "#index_test = df_circumplex_arousal[df_circumplex_arousal['value'] < -2].index\n",
    "index_test = df_circumplex_arousal.drop(df_circumplex_arousal[(df_circumplex_arousal['value'] < -2) | (df_circumplex_arousal['value'] > 2)].index)\n",
    "# sdf_mood.drop(index_neg, inplace=True)\n",
    "# display(sdf_mood)\n",
    "display(index_test)\n",
    "print(index_test)"
   ]
  },
  {
   "cell_type": "code",
   "execution_count": null,
   "metadata": {
    "pycharm": {
     "name": "#%%\n"
    }
   },
   "outputs": [],
   "source": [
    "variables = list(df.variable.unique())\n",
    "print(variables)\n",
    "ids = df.id.unique()\n",
    "# print(ids)"
   ]
  },
  {
   "cell_type": "code",
   "execution_count": null,
   "metadata": {
    "pycharm": {
     "name": "#%%\n"
    }
   },
   "outputs": [],
   "source": [
    "time_start = df.time.min().normalize()\n",
    "time_end = df.time.max().normalize()"
   ]
  },
  {
   "cell_type": "code",
   "execution_count": null,
   "metadata": {
    "pycharm": {
     "name": "#%%\n"
    }
   },
   "outputs": [],
   "source": [
    "time_range = pd.date_range(time_start, time_end)"
   ]
  },
  {
   "cell_type": "code",
   "execution_count": null,
   "metadata": {
    "pycharm": {
     "name": "#%%\n"
    }
   },
   "outputs": [],
   "source": [
    "multiindex = pd.MultiIndex.from_product([ids,time_range], names = [\"Ids\", \"Day\"])\n",
    "conversion = pd.DataFrame(0,index = multiindex ,columns= variables)"
   ]
  },
  {
   "cell_type": "code",
   "execution_count": null,
   "metadata": {
    "pycharm": {
     "name": "#%%\n"
    }
   },
   "outputs": [],
   "source": [
    "index_iterator = {}"
   ]
  },
  {
   "cell_type": "code",
   "execution_count": null,
   "metadata": {
    "pycharm": {
     "name": "#%%\n"
    }
   },
   "outputs": [],
   "source": [
    "for time in time_range:\n",
    "\tfor id_elem in ids:\n",
    "\t\tfor elem in [\"mood\", \"circumplex.arousal\", \"circumplex.valence\"]:\n",
    "\t\t\tindex_iterator[(id_elem, time.date(), elem)] = 0"
   ]
  },
  {
   "cell_type": "code",
   "execution_count": null,
   "metadata": {
    "pycharm": {
     "name": "#%%\n"
    }
   },
   "outputs": [],
   "source": [
    "for index, row in df.iterrows():\n",
    "\tif index % 10000 == 0:\n",
    "\t\tprint(index)\n",
    "\tif row[\"variable\"] in [\"mood\", \"circumplex.arousal\", \"circumplex.valence\"]:\n",
    "\t\tconversion.loc[row[\"id\"]].loc[row[\"time\"].date()]\n",
    "        #conversion.loc[row[\"id\"]].loc[row[\"time\"].date()][row[\"variable\"]] += row[\"value\"]\n",
    "\t\t#index_iterator[(row[\"id\"],row[\"time\"].date(),row[\"variable\"])] += 1\n",
    "\telse:\n",
    "\t\tconversion.loc[row[\"id\"]]\n",
    "\t\t#conversion.loc[row[\"id\"]].loc[row[\"time\"].date()][row[\"variable\"]] += row[\"value\"] "
   ]
  },
  {
   "cell_type": "code",
   "execution_count": 3,
   "metadata": {
    "pycharm": {
     "name": "#%%\n"
    }
   },
   "outputs": [
    {
     "name": "stderr",
     "output_type": "stream",
     "text": [
      "C:\\Users\\Berkay\\AppData\\Local\\Temp\\ipykernel_22488\\2364388763.py:11: FutureWarning: In a future version of pandas all arguments of DataFrame.dropna will be keyword-only.\n",
      "  df = df.dropna(0,'any',None,None,False)\n"
     ]
    },
    {
     "name": "stdout",
     "output_type": "stream",
     "text": [
      "0\n"
     ]
    },
    {
     "ename": "KeyError",
     "evalue": "\"None of [Index(['id', 'time', 'variable'], dtype='object')] are in the [columns]\"",
     "output_type": "error",
     "traceback": [
      "\u001B[1;31m---------------------------------------------------------------------------\u001B[0m",
      "\u001B[1;31mKeyError\u001B[0m                                  Traceback (most recent call last)",
      "Input \u001B[1;32mIn [3]\u001B[0m, in \u001B[0;36m<cell line: 36>\u001B[1;34m()\u001B[0m\n\u001B[0;32m     38\u001B[0m \t\u001B[38;5;28mprint\u001B[39m(index)\n\u001B[0;32m     39\u001B[0m \u001B[38;5;28;01mif\u001B[39;00m row[\u001B[38;5;124m\"\u001B[39m\u001B[38;5;124mvariable\u001B[39m\u001B[38;5;124m\"\u001B[39m] \u001B[38;5;129;01min\u001B[39;00m [\u001B[38;5;124m\"\u001B[39m\u001B[38;5;124mmood\u001B[39m\u001B[38;5;124m\"\u001B[39m, \u001B[38;5;124m\"\u001B[39m\u001B[38;5;124mcircumplex.arousal\u001B[39m\u001B[38;5;124m\"\u001B[39m, \u001B[38;5;124m\"\u001B[39m\u001B[38;5;124mcircumplex.valence\u001B[39m\u001B[38;5;124m\"\u001B[39m]:\n\u001B[0;32m     40\u001B[0m \t\u001B[38;5;66;03m#conversion.loc[row[\"id\"]].loc[row[\"time\"].date()][row[\"variable\"]] += row[\"value\"]\u001B[39;00m\n\u001B[1;32m---> 41\u001B[0m \tconversion[[\u001B[38;5;124m'\u001B[39m\u001B[38;5;124mid\u001B[39m\u001B[38;5;124m'\u001B[39m, \u001B[38;5;124m'\u001B[39m\u001B[38;5;124mtime\u001B[39m\u001B[38;5;124m'\u001B[39m, \u001B[38;5;124m'\u001B[39m\u001B[38;5;124mvariable\u001B[39m\u001B[38;5;124m'\u001B[39m]] \u001B[38;5;241m+\u001B[39m\u001B[38;5;241m=\u001B[39m row[\u001B[38;5;124m'\u001B[39m\u001B[38;5;124mvalue\u001B[39m\u001B[38;5;124m'\u001B[39m]\n\u001B[0;32m     42\u001B[0m \tindex_iterator[(row[\u001B[38;5;124m\"\u001B[39m\u001B[38;5;124mid\u001B[39m\u001B[38;5;124m\"\u001B[39m],row[\u001B[38;5;124m\"\u001B[39m\u001B[38;5;124mtime\u001B[39m\u001B[38;5;124m\"\u001B[39m]\u001B[38;5;241m.\u001B[39mdate(),row[\u001B[38;5;124m\"\u001B[39m\u001B[38;5;124mvariable\u001B[39m\u001B[38;5;124m\"\u001B[39m])] \u001B[38;5;241m+\u001B[39m\u001B[38;5;241m=\u001B[39m \u001B[38;5;241m1\u001B[39m\n\u001B[0;32m     43\u001B[0m \u001B[38;5;28;01melse\u001B[39;00m:\n",
      "File \u001B[1;32m~\\AppData\\Local\\Programs\\Python\\Python310\\lib\\site-packages\\pandas\\core\\frame.py:3511\u001B[0m, in \u001B[0;36mDataFrame.__getitem__\u001B[1;34m(self, key)\u001B[0m\n\u001B[0;32m   3509\u001B[0m     \u001B[38;5;28;01mif\u001B[39;00m is_iterator(key):\n\u001B[0;32m   3510\u001B[0m         key \u001B[38;5;241m=\u001B[39m \u001B[38;5;28mlist\u001B[39m(key)\n\u001B[1;32m-> 3511\u001B[0m     indexer \u001B[38;5;241m=\u001B[39m \u001B[38;5;28;43mself\u001B[39;49m\u001B[38;5;241;43m.\u001B[39;49m\u001B[43mcolumns\u001B[49m\u001B[38;5;241;43m.\u001B[39;49m\u001B[43m_get_indexer_strict\u001B[49m\u001B[43m(\u001B[49m\u001B[43mkey\u001B[49m\u001B[43m,\u001B[49m\u001B[43m \u001B[49m\u001B[38;5;124;43m\"\u001B[39;49m\u001B[38;5;124;43mcolumns\u001B[39;49m\u001B[38;5;124;43m\"\u001B[39;49m\u001B[43m)\u001B[49m[\u001B[38;5;241m1\u001B[39m]\n\u001B[0;32m   3513\u001B[0m \u001B[38;5;66;03m# take() does not accept boolean indexers\u001B[39;00m\n\u001B[0;32m   3514\u001B[0m \u001B[38;5;28;01mif\u001B[39;00m \u001B[38;5;28mgetattr\u001B[39m(indexer, \u001B[38;5;124m\"\u001B[39m\u001B[38;5;124mdtype\u001B[39m\u001B[38;5;124m\"\u001B[39m, \u001B[38;5;28;01mNone\u001B[39;00m) \u001B[38;5;241m==\u001B[39m \u001B[38;5;28mbool\u001B[39m:\n",
      "File \u001B[1;32m~\\AppData\\Local\\Programs\\Python\\Python310\\lib\\site-packages\\pandas\\core\\indexes\\base.py:5782\u001B[0m, in \u001B[0;36mIndex._get_indexer_strict\u001B[1;34m(self, key, axis_name)\u001B[0m\n\u001B[0;32m   5779\u001B[0m \u001B[38;5;28;01melse\u001B[39;00m:\n\u001B[0;32m   5780\u001B[0m     keyarr, indexer, new_indexer \u001B[38;5;241m=\u001B[39m \u001B[38;5;28mself\u001B[39m\u001B[38;5;241m.\u001B[39m_reindex_non_unique(keyarr)\n\u001B[1;32m-> 5782\u001B[0m \u001B[38;5;28;43mself\u001B[39;49m\u001B[38;5;241;43m.\u001B[39;49m\u001B[43m_raise_if_missing\u001B[49m\u001B[43m(\u001B[49m\u001B[43mkeyarr\u001B[49m\u001B[43m,\u001B[49m\u001B[43m \u001B[49m\u001B[43mindexer\u001B[49m\u001B[43m,\u001B[49m\u001B[43m \u001B[49m\u001B[43maxis_name\u001B[49m\u001B[43m)\u001B[49m\n\u001B[0;32m   5784\u001B[0m keyarr \u001B[38;5;241m=\u001B[39m \u001B[38;5;28mself\u001B[39m\u001B[38;5;241m.\u001B[39mtake(indexer)\n\u001B[0;32m   5785\u001B[0m \u001B[38;5;28;01mif\u001B[39;00m \u001B[38;5;28misinstance\u001B[39m(key, Index):\n\u001B[0;32m   5786\u001B[0m     \u001B[38;5;66;03m# GH 42790 - Preserve name from an Index\u001B[39;00m\n",
      "File \u001B[1;32m~\\AppData\\Local\\Programs\\Python\\Python310\\lib\\site-packages\\pandas\\core\\indexes\\base.py:5842\u001B[0m, in \u001B[0;36mIndex._raise_if_missing\u001B[1;34m(self, key, indexer, axis_name)\u001B[0m\n\u001B[0;32m   5840\u001B[0m     \u001B[38;5;28;01mif\u001B[39;00m use_interval_msg:\n\u001B[0;32m   5841\u001B[0m         key \u001B[38;5;241m=\u001B[39m \u001B[38;5;28mlist\u001B[39m(key)\n\u001B[1;32m-> 5842\u001B[0m     \u001B[38;5;28;01mraise\u001B[39;00m \u001B[38;5;167;01mKeyError\u001B[39;00m(\u001B[38;5;124mf\u001B[39m\u001B[38;5;124m\"\u001B[39m\u001B[38;5;124mNone of [\u001B[39m\u001B[38;5;132;01m{\u001B[39;00mkey\u001B[38;5;132;01m}\u001B[39;00m\u001B[38;5;124m] are in the [\u001B[39m\u001B[38;5;132;01m{\u001B[39;00maxis_name\u001B[38;5;132;01m}\u001B[39;00m\u001B[38;5;124m]\u001B[39m\u001B[38;5;124m\"\u001B[39m)\n\u001B[0;32m   5844\u001B[0m not_found \u001B[38;5;241m=\u001B[39m \u001B[38;5;28mlist\u001B[39m(ensure_index(key)[missing_mask\u001B[38;5;241m.\u001B[39mnonzero()[\u001B[38;5;241m0\u001B[39m]]\u001B[38;5;241m.\u001B[39munique())\n\u001B[0;32m   5845\u001B[0m \u001B[38;5;28;01mraise\u001B[39;00m \u001B[38;5;167;01mKeyError\u001B[39;00m(\u001B[38;5;124mf\u001B[39m\u001B[38;5;124m\"\u001B[39m\u001B[38;5;132;01m{\u001B[39;00mnot_found\u001B[38;5;132;01m}\u001B[39;00m\u001B[38;5;124m not in index\u001B[39m\u001B[38;5;124m\"\u001B[39m)\n",
      "\u001B[1;31mKeyError\u001B[0m: \"None of [Index(['id', 'time', 'variable'], dtype='object')] are in the [columns]\""
     ]
    }
   ],
   "source": [
    "import pandas as pd\n",
    "\n",
    "\n",
    "# Loading in the dataset with pandas\n",
    "df = pd.read_csv('data/dataset_mood_smartphone.csv')\n",
    "\n",
    "# Dropping the id column\n",
    "df = df.drop(df.columns[[0]], axis=1)\n",
    "\n",
    "# Remove all NaN\n",
    "df = df.dropna(0,'any',None,None,False)\n",
    "\n",
    "# Transform the time column to useful datatime format.\n",
    "df['time'] = pd.to_datetime(df['time'])\n",
    "\n",
    "variables = list(df.variable.unique())\n",
    "ids = df.id.unique()\n",
    "\n",
    "time_start = df.time.min().normalize()\n",
    "time_end = df.time.max().normalize()\n",
    "\n",
    "time_range = pd.date_range(time_start, time_end)\n",
    "\n",
    "multiindex = pd.MultiIndex.from_product([ids,time_range], names = [\"Ids\", \"Day\"])\n",
    "conversion = pd.DataFrame(0,index = multiindex ,columns= variables)\n",
    "\n",
    "\n",
    "index_iterator = {}\n",
    "\n",
    "for time in time_range:\n",
    "\tfor id_elem in ids:\n",
    "\t\tfor elem in [\"mood\", \"circumplex.arousal\", \"circumplex.valence\"]:\n",
    "\t\t\tindex_iterator[(id_elem, time.date(), elem)] = 0\n",
    "\t\t\t\n",
    "\n",
    "for index, row in df.iterrows():\n",
    "\tif index % 10000 == 0:\n",
    "\t\tprint(index)\n",
    "\tif row[\"variable\"] in [\"mood\", \"circumplex.arousal\", \"circumplex.valence\"]:\n",
    "\t\t#conversion.loc[row[\"id\"]].loc[row[\"time\"].date()][row[\"variable\"]] += row[\"value\"]\n",
    "\t\tconversion[['id', 'time', 'variable']] += row['value']\n",
    "\t\tindex_iterator[(row[\"id\"],row[\"time\"].date(),row[\"variable\"])] += 1\n",
    "\telse:\n",
    "\n",
    "\t\tconversion.loc[row[\"id\"]].loc[row[\"time\"].date()][row[\"variable\"]] += row[\"value\"] \n",
    "\n",
    "\n",
    "\n",
    "for index, row in conversion.iterrows():\n",
    "\tmood_avg = max(1,index_iterator[index[0], index[1].date(),\"mood\"])\n",
    "\tarousal_avg = max(1,index_iterator[index[0], index[1].date(),\"circumplex.arousal\"])\n",
    "\tvalence_avg = max(1,index_iterator[index[0], index[1].date(),\"circumplex.valence\"])\n",
    "\tconversion.loc[index,\"mood\"] = row[\"mood\"] / mood_avg\n",
    "\tconversion.loc[index,\"circumplex.arousal\"] = row[\"circumplex.arousal\"]/ arousal_avg\n",
    "\tconversion.loc[index,\"circumplex.valence\"] = row[\"circumplex.valence\"]/ valence_avg\n",
    "\n",
    "conversion.to_csv('dataset_mood_smartphone_converter.csv')"
   ]
  }
 ],
 "metadata": {
  "kernelspec": {
   "display_name": "Python 3 (ipykernel)",
   "language": "python",
   "name": "python3"
  },
  "language_info": {
   "codemirror_mode": {
    "name": "ipython",
    "version": 3
   },
   "file_extension": ".py",
   "mimetype": "text/x-python",
   "name": "python",
   "nbconvert_exporter": "python",
   "pygments_lexer": "ipython3",
   "version": "3.10.4"
  }
 },
 "nbformat": 4,
 "nbformat_minor": 1
}